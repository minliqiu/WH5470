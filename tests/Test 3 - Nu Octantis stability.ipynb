{
 "cells": [
  {
   "cell_type": "markdown",
   "id": "0a21b0c5",
   "metadata": {},
   "source": [
    "Test 2 - 𝜐 Octantis Stability\n",
    "--\n",
    "\n",
    "𝜐 Octantis is a non-coplanar three-body system encompassing two\n",
    "stars and a planet orbiting one of the stars. With RV data one can sample the ‘optimal’\n",
    "orbital elements of the 𝜐 Octantis system using MCMC. We propose to use WH5470 to\n",
    "perform long-term integrations and estimate the stability status of this dynamical system based on the posterior samples from previous simulations. Meanwhile, an external chaos indicator MEGNO (implemented by rebound) will be used to evaluate the possible ‘chaotic parameters’ of 𝜐 Octantis."
   ]
  },
  {
   "cell_type": "code",
   "execution_count": 1,
   "id": "74cbf118",
   "metadata": {},
   "outputs": [
    {
     "data": {
      "text/plain": [
       "'You will have to install rebound first if you want to run the notebook. : )'"
      ]
     },
     "execution_count": 1,
     "metadata": {},
     "output_type": "execute_result"
    }
   ],
   "source": [
    "# %pip install rebound\n",
    "'You will have to install rebound first if you want to run the notebook. : )'"
   ]
  },
  {
   "cell_type": "code",
   "execution_count": 2,
   "id": "d3aed5ed",
   "metadata": {},
   "outputs": [],
   "source": [
    "import rebound\n",
    "import numpy as np\n",
    "import pandas as pd\n",
    "import matplotlib.pyplot as plt\n",
    "%matplotlib inline"
   ]
  },
  {
   "cell_type": "code",
   "execution_count": 3,
   "id": "e3f6a945",
   "metadata": {},
   "outputs": [],
   "source": [
    "from wh5470 import wh5470"
   ]
  },
  {
   "cell_type": "code",
   "execution_count": 4,
   "id": "aa000a75",
   "metadata": {},
   "outputs": [],
   "source": [
    "import warnings\n",
    "warnings.filterwarnings(\"ignore\")"
   ]
  },
  {
   "cell_type": "code",
   "execution_count": 5,
   "id": "c37b66d8",
   "metadata": {},
   "outputs": [],
   "source": [
    "# constants\n",
    "AU_to_meter = 1.496e+11\n",
    "yr = 3600*24*365 # yr in s\n",
    "G = 6.67430e-11  # Gravitational constant [N m^2 / kg^2]\n",
    "c = 299792458.0  # Speed of light [m/s]\n",
    "M_sun = 1.989e30 # Solar mass in [kg]\n",
    "M_Jupiter = 1.898e27 # Jupiter mass in [kg]\n",
    "M_Mercury = 3.285e23 # Mercury mass in [kg]\n",
    "AUPERDAY_TO_KMPERSECOND = 1731.456836805555556\n",
    "SolarRadius_To_AU = 0.00465047\n",
    "Degree_To_Rad = np.pi/180"
   ]
  },
  {
   "cell_type": "markdown",
   "id": "e94c2087",
   "metadata": {},
   "source": [
    "We will set up this `megno_grid` function first and then iterate it over the orbital elements from the samples."
   ]
  },
  {
   "cell_type": "code",
   "execution_count": 6,
   "id": "69eec08b",
   "metadata": {},
   "outputs": [],
   "source": [
    "def megno_grid(para, tmax):\n",
    "    \n",
    "    P_b, e_b, inc_b, w_b, M_b = para\n",
    "    \n",
    "    # set up the nu Octantis planetary system\n",
    "    masses = np.array([1.61*M_sun, 0.00197*M_sun, 0.5852*M_sun]) # star A\n",
    "    orbital_elements_initial = np.array([(1050.67678, 0., 0., 0., 0., 0.), # planet b\n",
    "                                         (405.57, e_b, inc_b, w_b, 237.8*Degree_To_Rad, M_b), \n",
    "                                         (1050.67678, 0.2366, 70.8*Degree_To_Rad, 1.30873, 87*Degree_To_Rad, 5.9217)]) # star B, all fixed parameters \n",
    "    dt = 11*24*3600 # timestep\n",
    "    sim = wh5470(masses, orbital_elements=orbital_elements_initial, time_step=dt, total_time=tmax)\n",
    "    sim.integrate()\n",
    "    \n",
    "    # set up rebound first so that it can track MEGNO for our planetary systm\n",
    "    sim = rebound.Simulation()\n",
    "    sim.units = ('AU', 'days', 'Msun')\n",
    "    sim.dt = 11 # timestep in [days]\n",
    "    sim.t = 2068.0607 # starting time\n",
    "    \n",
    "    sim.add(m=1.61) # star A\n",
    "    sim.add(m=0.00197, P=P_b, e=e_b, inc=inc_b, omega=w_b, \n",
    "            M=M_b, Omega=237.8*Degree_To_Rad, r=0.0950688) # planet b\n",
    "    sim.add(m=0.5852, P=1050.67678, e=0.2366, inc=70.8*Degree_To_Rad, omega=1.30873, \n",
    "            M=5.9217, Omega=87*Degree_To_Rad) # star B, all fixed parameters\n",
    "    sim.move_to_com()\n",
    "    \n",
    "    sim.init_megno()\n",
    "    \n",
    "        \n",
    "    # get MEGNO\n",
    "    N = int(tmax/500)+1\n",
    "    megno = np.zeros(N)\n",
    "    times = np.linspace(sim.t, sim.t+tmax, N)\n",
    "    for i,time in enumerate(times):\n",
    "        sim.integrate(time)\n",
    "        megno[i] = sim.calculate_megno()\n",
    "  \n",
    "    para = list(para)\n",
    "    para.append(w_b+M_b) # mean longitude in [degrees]\n",
    "    para.append(megno)\n",
    "    \n",
    "    return para\n",
    "    \n",
    "    "
   ]
  },
  {
   "cell_type": "markdown",
   "id": "7e480c5e",
   "metadata": {},
   "source": [
    "Now create a grid for orbital parameters of planet b."
   ]
  },
  {
   "cell_type": "code",
   "execution_count": 7,
   "id": "029db9c2",
   "metadata": {},
   "outputs": [],
   "source": [
    "import itertools\n",
    "P_b_array = np.linspace(413.0815-4*1.8762, 413.0815+4*1.8762, 9)\n",
    "e_b_array = np.linspace(0.10298-7*0.0118, 0.10298+7*0.0118, 13)\n",
    "inc_b_array = np.linspace(1.95837-6*0.01356, 1.95837+6*0.01356, 11)\n",
    "w_b_array = np.linspace(6.09011-5*0.11725, 6.09011+5*0.11725, 11)\n",
    "M_b_array = np.linspace(5.23575-5*0.1215, 5.23575+5*0.1215, 11)"
   ]
  },
  {
   "cell_type": "markdown",
   "id": "579958d8",
   "metadata": {},
   "source": [
    "Start grid tests. We have to run it for a relatively long time so that MEGNO will start to diverge. Normally the longer the better, but we are just presenting an example here."
   ]
  },
  {
   "cell_type": "code",
   "execution_count": 8,
   "id": "dc1c0ade",
   "metadata": {},
   "outputs": [
    {
     "name": "stdout",
     "output_type": "stream",
     "text": [
      "CPU times: user 7min 41s, sys: 1.27 s, total: 7min 42s\n",
      "Wall time: 7min 42s\n"
     ]
    }
   ],
   "source": [
    "%%time\n",
    "para_new = []\n",
    "for para in itertools.product(P_b_array, e_b_array, inc_b_array, w_b_array, M_b_array):\n",
    "    para_new.append(megno_grid(para, 5e2))\n"
   ]
  },
  {
   "cell_type": "code",
   "execution_count": 9,
   "id": "96458ee2",
   "metadata": {},
   "outputs": [],
   "source": [
    "# construct dataframe\n",
    "paralabels = [\"a_b\", \"e_b\", \"inc_b\", \"w_b\", \"M_b\", \"L_b\", \"megno_final\"]\n",
    "df_para_new = pd.DataFrame(para_new, columns = paralabels)\n",
    "# final megno\n",
    "megno_final = [i[-1] for i in df_para_new[\"megno_final\"]] # final megno for each case; list\n",
    "# construct dataframe for megno grid tests\n",
    "df_para_test = df_para_new.drop(['megno_final'], axis=1)\n",
    "df_para_test['megno_final'] = megno_final"
   ]
  },
  {
   "cell_type": "code",
   "execution_count": 10,
   "id": "aadde485",
   "metadata": {},
   "outputs": [
    {
     "data": {
      "text/html": [
       "<div>\n",
       "<style scoped>\n",
       "    .dataframe tbody tr th:only-of-type {\n",
       "        vertical-align: middle;\n",
       "    }\n",
       "\n",
       "    .dataframe tbody tr th {\n",
       "        vertical-align: top;\n",
       "    }\n",
       "\n",
       "    .dataframe thead th {\n",
       "        text-align: right;\n",
       "    }\n",
       "</style>\n",
       "<table border=\"1\" class=\"dataframe\">\n",
       "  <thead>\n",
       "    <tr style=\"text-align: right;\">\n",
       "      <th></th>\n",
       "      <th>a_b</th>\n",
       "      <th>e_b</th>\n",
       "      <th>inc_b</th>\n",
       "      <th>w_b</th>\n",
       "      <th>M_b</th>\n",
       "      <th>L_b</th>\n",
       "      <th>megno_final</th>\n",
       "    </tr>\n",
       "  </thead>\n",
       "  <tbody>\n",
       "    <tr>\n",
       "      <th>0</th>\n",
       "      <td>405.5767</td>\n",
       "      <td>0.02038</td>\n",
       "      <td>1.87701</td>\n",
       "      <td>5.50386</td>\n",
       "      <td>4.62825</td>\n",
       "      <td>10.13211</td>\n",
       "      <td>1.927273</td>\n",
       "    </tr>\n",
       "    <tr>\n",
       "      <th>1</th>\n",
       "      <td>405.5767</td>\n",
       "      <td>0.02038</td>\n",
       "      <td>1.87701</td>\n",
       "      <td>5.50386</td>\n",
       "      <td>4.74975</td>\n",
       "      <td>10.25361</td>\n",
       "      <td>2.038739</td>\n",
       "    </tr>\n",
       "    <tr>\n",
       "      <th>2</th>\n",
       "      <td>405.5767</td>\n",
       "      <td>0.02038</td>\n",
       "      <td>1.87701</td>\n",
       "      <td>5.50386</td>\n",
       "      <td>4.87125</td>\n",
       "      <td>10.37511</td>\n",
       "      <td>1.939987</td>\n",
       "    </tr>\n",
       "    <tr>\n",
       "      <th>3</th>\n",
       "      <td>405.5767</td>\n",
       "      <td>0.02038</td>\n",
       "      <td>1.87701</td>\n",
       "      <td>5.50386</td>\n",
       "      <td>4.99275</td>\n",
       "      <td>10.49661</td>\n",
       "      <td>2.001660</td>\n",
       "    </tr>\n",
       "    <tr>\n",
       "      <th>4</th>\n",
       "      <td>405.5767</td>\n",
       "      <td>0.02038</td>\n",
       "      <td>1.87701</td>\n",
       "      <td>5.50386</td>\n",
       "      <td>5.11425</td>\n",
       "      <td>10.61811</td>\n",
       "      <td>1.784772</td>\n",
       "    </tr>\n",
       "  </tbody>\n",
       "</table>\n",
       "</div>"
      ],
      "text/plain": [
       "        a_b      e_b    inc_b      w_b      M_b       L_b  megno_final\n",
       "0  405.5767  0.02038  1.87701  5.50386  4.62825  10.13211     1.927273\n",
       "1  405.5767  0.02038  1.87701  5.50386  4.74975  10.25361     2.038739\n",
       "2  405.5767  0.02038  1.87701  5.50386  4.87125  10.37511     1.939987\n",
       "3  405.5767  0.02038  1.87701  5.50386  4.99275  10.49661     2.001660\n",
       "4  405.5767  0.02038  1.87701  5.50386  5.11425  10.61811     1.784772"
      ]
     },
     "execution_count": 10,
     "metadata": {},
     "output_type": "execute_result"
    }
   ],
   "source": [
    "df_para_test[0:5]"
   ]
  },
  {
   "cell_type": "markdown",
   "id": "c2f29031",
   "metadata": {},
   "source": [
    "Plot the final megno results over mean longitude and eccentricity pramaeter space, and we can find out how 'chaos' the system would be for different initial orbital elements (in different grids)!"
   ]
  },
  {
   "cell_type": "code",
   "execution_count": 11,
   "id": "edc02585",
   "metadata": {},
   "outputs": [
    {
     "data": {
      "image/png": "[encoded data removed]",
      "text/plain": [
       "<Figure size 600x450 with 2 Axes>"
      ]
     },
     "metadata": {},
     "output_type": "display_data"
    }
   ],
   "source": [
    "import matplotlib\n",
    "fig = plt.figure(figsize=(6,4.5))\n",
    "ax = plt.subplot(111)\n",
    "plt.title('MEGNO')\n",
    "plt.xlabel(\"Eccentricity\")\n",
    "plt.ylabel(\"Mean Longitude L_b [degree]\")\n",
    "plt.scatter(df_para_test[\"e_b\"], df_para_test[\"L_b\"]/Degree_To_Rad-360, c=df_para_test['megno_final'], s=550, marker = ',', cmap=matplotlib.colormaps['Spectral'])\n",
    "plt.colorbar().set_label('MEGNO $\\\\langle Y \\\\rangle$')"
   ]
  },
  {
   "cell_type": "code",
   "execution_count": null,
   "id": "a61cdbaf",
   "metadata": {},
   "outputs": [],
   "source": []
  }
 ],
 "metadata": {
  "kernelspec": {
   "display_name": "Python 3 (ipykernel)",
   "language": "python",
   "name": "python3"
  },
  "language_info": {
   "codemirror_mode": {
    "name": "ipython",
    "version": 3
   },
   "file_extension": ".py",
   "mimetype": "text/x-python",
   "name": "python",
   "nbconvert_exporter": "python",
   "pygments_lexer": "ipython3",
   "version": "3.10.9"
  }
 },
 "nbformat": 4,
 "nbformat_minor": 5
}
