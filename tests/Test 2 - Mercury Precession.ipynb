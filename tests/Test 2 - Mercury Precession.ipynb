{
 "cells": [
  {
   "cell_type": "markdown",
   "id": "0a21b0c5",
   "metadata": {},
   "source": [
    "Test 2 - Mercury Precession\n",
    "--\n",
    "\n",
    "This test aims to use the general relativity module (`gr.py`) in `wh5470` to verify the famous discrepancy of 43 seconds of arc per century in Mercury precession, which was first\n",
    "explained by Einstein’s General Relativity theory in 1915."
   ]
  },
  {
   "cell_type": "code",
   "execution_count": 1,
   "id": "d3aed5ed",
   "metadata": {},
   "outputs": [],
   "source": [
    "import numpy as np\n",
    "import matplotlib.pyplot as plt\n",
    "%matplotlib inline"
   ]
  },
  {
   "cell_type": "code",
   "execution_count": 2,
   "id": "e3f6a945",
   "metadata": {},
   "outputs": [],
   "source": [
    "from wh5470 import wh5470"
   ]
  },
  {
   "cell_type": "code",
   "execution_count": 3,
   "id": "aa000a75",
   "metadata": {},
   "outputs": [],
   "source": [
    "import warnings\n",
    "warnings.filterwarnings(\"ignore\")"
   ]
  },
  {
   "cell_type": "code",
   "execution_count": 4,
   "id": "c37b66d8",
   "metadata": {},
   "outputs": [],
   "source": [
    "# constants\n",
    "AU_to_meter = 1.496e+11\n",
    "yr = 3600*24*365 # yr in s\n",
    "G = 6.67430e-11  # Gravitational constant [N m^2 / kg^2]\n",
    "c = 299792458.0  # Speed of light [m/s]\n",
    "M_sun = 1.989e30 # Solar mass in [kg]\n",
    "M_Jupiter = 1.898e27 # Jupiter mass in [kg]\n",
    "M_Mercury = 3.285e23 # Mercury mass in [kg]"
   ]
  },
  {
   "cell_type": "markdown",
   "id": "e94c2087",
   "metadata": {},
   "source": [
    "Similarly, we set up bodies and their initial positions and velocities. This will be a two-body problem, and simplified parameters will be taken since we only want to verify the discrepency precession rate caused by the gr effects from the Sun. Note we have to take into account the ~ 7 degree inclination of Mercury's orbit."
   ]
  },
  {
   "cell_type": "code",
   "execution_count": 5,
   "id": "7495f141",
   "metadata": {},
   "outputs": [],
   "source": [
    "masses = np.array([M_sun, M_Mercury])\n",
    "\n",
    "\n",
    "positions_initial = np.array([[0., 0., 0.], # Sun at origin\n",
    "                      [0.4*AU_to_meter, 0., 0.]]) # Mercury at 5.2 AU from the Sun)  # test particle in an outer orbit\n",
    "\n",
    "velocities_initial = np.array([[0., 0., 0.], # Sun initially stationary\n",
    "                       [0., 58541, 7192]])\n",
    "\n",
    "dt = 10*3600 # timestep\n",
    "endtime = 100 * yr # total integration time\n",
    "\n",
    "# add 'gr=True'\n",
    "sim = wh5470(masses, positions=positions_initial, velocities=velocities_initial, time_step=dt, total_time=endtime, gr=True)\n"
   ]
  },
  {
   "cell_type": "code",
   "execution_count": 6,
   "id": "e8b9a118",
   "metadata": {},
   "outputs": [
    {
     "name": "stdout",
     "output_type": "stream",
     "text": [
      "CPU times: user 1min 6s, sys: 225 ms, total: 1min 6s\n",
      "Wall time: 1min 6s\n"
     ]
    }
   ],
   "source": [
    "%%time\n",
    "trajectory, velocity, energy, angular_momentum, orbital_elements, trajectory_jacobi, velocity_jacobi = sim.integrate()"
   ]
  },
  {
   "cell_type": "markdown",
   "id": "e26f9e7f",
   "metadata": {},
   "source": [
    "Calculate the precession rate using orbital elements ($\\omega$)."
   ]
  },
  {
   "cell_type": "code",
   "execution_count": 7,
   "id": "0a836be9",
   "metadata": {},
   "outputs": [],
   "source": [
    "omega_values = []\n",
    "for oe in orbital_elements:\n",
    "    omega_values.append(oe[1][4])\n",
    "\n",
    "delta_omega = omega_values[-100] - omega_values[0]"
   ]
  },
  {
   "cell_type": "code",
   "execution_count": 8,
   "id": "16d96176",
   "metadata": {},
   "outputs": [],
   "source": [
    "precession_rate_rad_per_year = delta_omega / (endtime / (365 * 86400.0))  # Assuming total_time is in seconds\n",
    "precession_rate_deg_per_century = np.rad2deg(precession_rate_rad_per_year) * 100"
   ]
  },
  {
   "cell_type": "code",
   "execution_count": 9,
   "id": "3989bdca",
   "metadata": {},
   "outputs": [
    {
     "name": "stdout",
     "output_type": "stream",
     "text": [
      "Precession rate from simulation: 69.8529 arcseconds per century\n",
      "Theoretical precession rate: 42.9799 arcseconds per century\n"
     ]
    }
   ],
   "source": [
    "theoretical_precession_rate = 42.9799  # Theoretical precession rate of Mercury's perihelion (in arcseconds per century)\n",
    "\n",
    "print(f\"Precession rate from simulation: {precession_rate_deg_per_century:.4f} arcseconds per century\")\n",
    "print(f\"Theoretical precession rate: {theoretical_precession_rate} arcseconds per century\")"
   ]
  },
  {
   "cell_type": "markdown",
   "id": "14f64ced",
   "metadata": {},
   "source": [
    "Since we are using a simplified model, and the gr modification function is not developed to full orders, this would be a more qualitative-verifying result then."
   ]
  },
  {
   "cell_type": "code",
   "execution_count": null,
   "id": "b993c434",
   "metadata": {},
   "outputs": [],
   "source": []
  }
 ],
 "metadata": {
  "kernelspec": {
   "display_name": "Python 3 (ipykernel)",
   "language": "python",
   "name": "python3"
  },
  "language_info": {
   "codemirror_mode": {
    "name": "ipython",
    "version": 3
   },
   "file_extension": ".py",
   "mimetype": "text/x-python",
   "name": "python",
   "nbconvert_exporter": "python",
   "pygments_lexer": "ipython3",
   "version": "3.10.9"
  }
 },
 "nbformat": 4,
 "nbformat_minor": 5
}
